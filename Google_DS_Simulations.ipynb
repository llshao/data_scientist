{
 "cells": [
  {
   "cell_type": "markdown",
   "metadata": {},
   "source": [
    "1.simulation coding，9个normal rv， mean和sigma都不同，问这9个数的 max expectation是多少，期望的uncertainty是多少"
   ]
  },
  {
   "cell_type": "code",
   "execution_count": 1,
   "metadata": {},
   "outputs": [],
   "source": [
    "import numpy as np\n",
    "n = 9\n",
    "sample_size =1000\n",
    "mean = 10*np.random.random(size=n)\n",
    "var = 100*np.random.random(size=n)\n",
    "sample_mean = []\n",
    "sample_var = []\n",
    "samples = []\n",
    "for m, v in zip(mean, var):\n",
    "    sample = np.random.normal(loc=m, scale=v,size=sample_size)\n",
    "    if len(samples) == 0:\n",
    "        samples = sample\n",
    "    else:\n",
    "        samples = np.vstack((sample,samples))\n",
    "sample_max = np.max(samples,axis=0)\n",
    "sample_mean = np.mean(sample_max)\n",
    "sample_var = np.var(sample_max)"
   ]
  },
  {
   "cell_type": "markdown",
   "metadata": {},
   "source": [
    "第三轮: 一个1 - N的数组，random shuffle以后，X_i 代表 ith number, 定义一个r.v. Y_i = 1 if X_{i+1} = X_i + 1 and 0 o/w， 求E(Y).  然后写一个程序simulate这个期望。\n",
    "(N-1)/N*1/(N-1)*(N-1)=N-1/N"
   ]
  },
  {
   "cell_type": "code",
   "execution_count": 18,
   "metadata": {},
   "outputs": [],
   "source": [
    "def check_y(lists):\n",
    "    y = 0\n",
    "    for i in range(len(lists)-1):\n",
    "        if lists[i] + 1 == lists[i+1]:\n",
    "            y += 1\n",
    "    return y"
   ]
  },
  {
   "cell_type": "code",
   "execution_count": 36,
   "metadata": {},
   "outputs": [
    {
     "data": {
      "text/plain": [
       "0.9000214"
      ]
     },
     "execution_count": 36,
     "metadata": {},
     "output_type": "execute_result"
    }
   ],
   "source": [
    "import numpy as np\n",
    "trails = 10000000\n",
    "N = 10\n",
    "y_all = []\n",
    "for i in range(trails):\n",
    "    lists = [*range(1,N+1)]\n",
    "    np.random.shuffle(lists)\n",
    "    y_all.append(check_y(lists))\n",
    "exp_y = np.mean(y_all)\n",
    "exp_y#N-1/N"
   ]
  },
  {
   "attachments": {
    "image.png": {
     "image/png": "[encoded data removed]"
    }
   },
   "cell_type": "markdown",
   "metadata": {},
   "source": [
    "那个7场4胜制度，问用程序simulate 打到第七场的概率。![image.png](attachment:image.png)"
   ]
  },
  {
   "cell_type": "code",
   "execution_count": 45,
   "metadata": {},
   "outputs": [],
   "source": [
    "def games(p, win_count):\n",
    "    x = 0\n",
    "    y = 0\n",
    "    while (x < win_count) and (y < win_count):\n",
    "        if np.random.uniform() <= p:\n",
    "            x += 1\n",
    "        else : \n",
    "            y += 1\n",
    "    return (x+y)"
   ]
  },
  {
   "cell_type": "code",
   "execution_count": 61,
   "metadata": {},
   "outputs": [
    {
     "name": "stdout",
     "output_type": "stream",
     "text": [
      "Expexcted 0.18522000000000005 and simulations 0.1836\n"
     ]
    }
   ],
   "source": [
    "p = 0.7\n",
    "win_count = 4\n",
    "trails = 10000\n",
    "game = []\n",
    "for i in range(trails):\n",
    "    game.append(games(p, win_count))\n",
    "prob_7games = sum(np.array(game) == 7)/trails\n",
    "print('Expexcted {} and simulations {}'.format(20*p**3*(1-p)**3,prob_7games))"
   ]
  },
  {
   "cell_type": "markdown",
   "metadata": {},
   "source": [
    "## Simpson's Paradox\n",
    "Logic Level 5\n",
    "Find the smallest example of (strict) Simpson's paradox; that is, construct such table where the number of cases is minimum. Formally, suppose that a,b,x,ya,b,x,y are nonnegative integers and A,B,X,YA,B,X,Y are positive integers such that $a \\le A$, $b \\le B$, $x \\le X$, $y \\le Y$,$a≤A$,$b≤B$,$x≤X$,$y≤Y$, and also $\\dfrac{a}{A} > \\dfrac{x}{X} $,  $\\dfrac{b}{B} > \\dfrac{y}{Y}$, but $\\dfrac{a+b}{A+B} < \\dfrac{x+y}{X+Y} $.\n",
    "Determine the minimum value of A+B+X+YA+B+X+Y."
   ]
  },
  {
   "cell_type": "code",
   "execution_count": 12,
   "metadata": {},
   "outputs": [
    {
     "data": {
      "text/plain": [
       "9"
      ]
     },
     "execution_count": 12,
     "metadata": {},
     "output_type": "execute_result"
    }
   ],
   "source": [
    "import numpy as np\n",
    "result = []\n",
    "ABXY = []\n",
    "for A in range(1,10):\n",
    "    for X in range(1,10):\n",
    "        for B in range(1,10):\n",
    "            for Y in range(1,10):\n",
    "                for a in range(0,A+1):\n",
    "                    for x in range(0,X+1):\n",
    "                        for b in range(0,B+1):\n",
    "                            for y in range(0,Y+1):\n",
    "                                if a/A > x/X and b/B > y/Y and (a+b)/(A+B)<(x+y)/(X+Y):\n",
    "                                    result.append([a,A,b,B,x,X,y,Y])\n",
    "                                    ABXY.append([A,B,X,Y])\n",
    "np.min(np.sum(ABXY,axis=1))"
   ]
  }
 ],
 "metadata": {
  "kernelspec": {
   "display_name": "Python 3",
   "language": "python",
   "name": "python3"
  },
  "language_info": {
   "codemirror_mode": {
    "name": "ipython",
    "version": 3
   },
   "file_extension": ".py",
   "mimetype": "text/x-python",
   "name": "python",
   "nbconvert_exporter": "python",
   "pygments_lexer": "ipython3",
   "version": "3.7.4"
  }
 },
 "nbformat": 4,
 "nbformat_minor": 2
}
