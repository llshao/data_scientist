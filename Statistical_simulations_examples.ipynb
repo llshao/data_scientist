{
 "cells": [
  {
   "cell_type": "markdown",
   "metadata": {},
   "source": [
    "# Statistial Simulations"
   ]
  },
  {
   "cell_type": "markdown",
   "metadata": {},
   "source": [
    "1.ads bid 如果有两个bidder X AND Y， the bid amount is uniform[0,1] distribution. what is the expected revenue?\n",
    "what if three bidders?\n"
   ]
  },
  {
   "cell_type": "code",
   "execution_count": 20,
   "metadata": {},
   "outputs": [],
   "source": [
    "import numpy as np\n",
    "# two bidders\n",
    "x = np.random.uniform(low=0,high=1,size=10000)\n",
    "y = np.random.uniform(0,1,size=10000)\n",
    "z = np.random.uniform(0,1,size=10000)\n",
    "xyz = np.stack((x,y,z),axis=0)\n",
    "xyz_sort = np.sort(xyz,axis=0)\n",
    "exp1 = np.mean(np.maximum(x,y))\n",
    "exp2 = np.mean(np.minimum(x,y))\n",
    "exp3 = np.mean(np.minimum(x,y,z))"
   ]
  },
  {
   "cell_type": "markdown",
   "metadata": {},
   "source": [
    "2. 非常简单的for loop coding 题。用R或者python写都可以。计算 sqrt(1) + sqrt(2) + ... + sqrt(100)"
   ]
  },
  {
   "cell_type": "code",
   "execution_count": 25,
   "metadata": {},
   "outputs": [
    {
     "data": {
      "text/plain": [
       "671.4629471031477"
      ]
     },
     "execution_count": 25,
     "metadata": {},
     "output_type": "execute_result"
    }
   ],
   "source": [
    "import math as mt\n",
    "sum([mt.sqrt(i) for i in range(1,101)])\n",
    "sum([np.sqrt(i) for i in range(1,101)])"
   ]
  },
  {
   "cell_type": "markdown",
   "metadata": {},
   "source": [
    "3. generate poisson distribution using unifrom\n",
    "https://www.johndcook.com/blog/2010/06/14/generating-poisson-random-values/"
   ]
  },
  {
   "cell_type": "code",
   "execution_count": 28,
   "metadata": {},
   "outputs": [],
   "source": [
    "def poisson(lam):\n",
    "    k, p = 0, 1\n",
    "    while p > mt.exp(-lam):\n",
    "        k += 1\n",
    "        p = p*np.random.uniform()\n",
    "    return k"
   ]
  },
  {
   "cell_type": "code",
   "execution_count": 42,
   "metadata": {},
   "outputs": [
    {
     "data": {
      "text/plain": [
       "1"
      ]
     },
     "execution_count": 42,
     "metadata": {},
     "output_type": "execute_result"
    }
   ],
   "source": [
    "poisson(2)"
   ]
  }
 ],
 "metadata": {
  "kernelspec": {
   "display_name": "Python 3",
   "language": "python",
   "name": "python3"
  },
  "language_info": {
   "codemirror_mode": {
    "name": "ipython",
    "version": 3
   },
   "file_extension": ".py",
   "mimetype": "text/x-python",
   "name": "python",
   "nbconvert_exporter": "python",
   "pygments_lexer": "ipython3",
   "version": "3.7.4"
  }
 },
 "nbformat": 4,
 "nbformat_minor": 2
}
