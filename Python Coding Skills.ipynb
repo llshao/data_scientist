{
 "cells": [
  {
   "cell_type": "markdown",
   "metadata": {},
   "source": [
    "\n",
    "# Python Coding Skills"
   ]
  },
  {
   "cell_type": "markdown",
   "metadata": {},
   "source": [
    "## List"
   ]
  },
  {
   "cell_type": "code",
   "execution_count": 26,
   "metadata": {},
   "outputs": [
    {
     "name": "stdout",
     "output_type": "stream",
     "text": [
      "False\n"
     ]
    }
   ],
   "source": [
    "x = 2\n",
    "if x:\n",
    "    print(False)"
   ]
  },
  {
   "cell_type": "code",
   "execution_count": 59,
   "metadata": {},
   "outputs": [
    {
     "data": {
      "text/plain": [
       "[[0, 0, 0, 0, 0],\n",
       " [0, 0, 0, 0, 0],\n",
       " [0, 0, 0, 0, 0],\n",
       " [0, 0, 0, 0, 0],\n",
       " [0, 0, 0, 0, 0],\n",
       " [0, 0, 0, 0, 0],\n",
       " [0, 0, 0, 0, 0],\n",
       " [0, 0, 0, 0, 0],\n",
       " [0, 0, 0, 0, 0]]"
      ]
     },
     "execution_count": 59,
     "metadata": {},
     "output_type": "execute_result"
    }
   ],
   "source": [
    "# 2d array\n",
    "l1 = [[0 for c in range(5)] for r in range(9)]\n",
    "l1"
   ]
  },
  {
   "cell_type": "code",
   "execution_count": 19,
   "metadata": {},
   "outputs": [
    {
     "data": {
      "text/plain": [
       "[[0, 0, 0, 0, 0, 1],\n",
       " [0, 0, 0, 0, 0],\n",
       " [0, 0, 0, 0, 0],\n",
       " [0, 0, 0, 0, 0],\n",
       " [0, 0, 0, 0, 0],\n",
       " [0, 0, 0, 0, 0],\n",
       " [0, 0, 0, 0, 0],\n",
       " [0, 0, 0, 0, 0],\n",
       " [0, 0, 0, 0, 0]]"
      ]
     },
     "execution_count": 19,
     "metadata": {},
     "output_type": "execute_result"
    }
   ],
   "source": [
    "# copy/ shawllow copy: not able to copy nested structure\n",
    "l2 = l1.copy()\n",
    "l1[0].append(1)\n",
    "l2"
   ]
  },
  {
   "cell_type": "code",
   "execution_count": 17,
   "metadata": {},
   "outputs": [
    {
     "data": {
      "text/plain": [
       "[[0, 0, 0, 0, 0],\n",
       " [0, 0, 0, 0, 0],\n",
       " [0, 0, 0, 0, 0],\n",
       " [0, 0, 0, 0, 0],\n",
       " [0, 0, 0, 0, 0],\n",
       " [0, 0, 0, 0, 0],\n",
       " [0, 0, 0, 0, 0],\n",
       " [0, 0, 0, 0, 0],\n",
       " [0, 0, 0, 0, 0]]"
      ]
     },
     "execution_count": 17,
     "metadata": {},
     "output_type": "execute_result"
    }
   ],
   "source": [
    "# copy/ deep copy: initiate new object and copy recursivelyb\n",
    "import copy as cp\n",
    "l2 = cp.deepcopy(l1)\n",
    "l1[0].append(1)\n",
    "l2"
   ]
  },
  {
   "cell_type": "code",
   "execution_count": 20,
   "metadata": {},
   "outputs": [
    {
     "name": "stdout",
     "output_type": "stream",
     "text": [
      "0 a\n",
      "1 b\n",
      "2 c\n"
     ]
    }
   ],
   "source": [
    "# enumerate\n",
    "l = [\"a\", \"b\", \"c\"]\n",
    "\n",
    "for i, v in enumerate(l):\n",
    "    print(i, v)\n",
    "# 0 a\n",
    "# 1 b\n",
    "# 2 c"
   ]
  },
  {
   "cell_type": "code",
   "execution_count": 21,
   "metadata": {},
   "outputs": [
    {
     "data": {
      "text/plain": [
       "[(1, 4), (2, 5), (3, 6)]"
      ]
     },
     "execution_count": 21,
     "metadata": {},
     "output_type": "execute_result"
    }
   ],
   "source": [
    "#  zip\n",
    "x = [1, 2, 3]\n",
    "y = [4, 5, 6]\n",
    "zipped = zip(x, y)\n",
    "list(zipped)"
   ]
  },
  {
   "cell_type": "markdown",
   "metadata": {},
   "source": [
    "## Map, filter, reduce\n",
    "### Used with lambda x: x**x/x(i) && list()"
   ]
  },
  {
   "cell_type": "code",
   "execution_count": 25,
   "metadata": {},
   "outputs": [
    {
     "data": {
      "text/plain": [
       "[1, 4, 9, 16, 25]"
      ]
     },
     "execution_count": 25,
     "metadata": {},
     "output_type": "execute_result"
    }
   ],
   "source": [
    "# map\n",
    "#Map applies a function to all the items in an input_list. Here is the blueprint\n",
    "items = [1, 2, 3, 4, 5]\n",
    "squared = list(map(lambda x: x**2, items))\n",
    "squared"
   ]
  },
  {
   "cell_type": "code",
   "execution_count": 38,
   "metadata": {},
   "outputs": [
    {
     "data": {
      "text/plain": [
       "(2019, 8, 15)"
      ]
     },
     "execution_count": 38,
     "metadata": {},
     "output_type": "execute_result"
    }
   ],
   "source": [
    "date = \"2019-8-15\"\n",
    "Y, M, D = map(int, date.split('-'))\n",
    "Y, M, D"
   ]
  },
  {
   "cell_type": "code",
   "execution_count": 36,
   "metadata": {},
   "outputs": [
    {
     "name": "stdout",
     "output_type": "stream",
     "text": [
      "[[0, 0], [1, 2], [4, 4], [9, 6], [16, 8]]\n",
      "[0, 0, 1, 2, 4, 4, 9, 6, 16, 8]\n"
     ]
    }
   ],
   "source": [
    "# Most of the times we use lambdas with map so I did the same. \n",
    "# Instead of a list of inputs we can even have a list of functions!\n",
    "def multiply(x):\n",
    "    return (x*x)\n",
    "def add(x):\n",
    "    return (x+x)\n",
    "\n",
    "funcs = [multiply, add]\n",
    "value = []\n",
    "val = []\n",
    "for i in range(5):\n",
    "    value.append(list(map(lambda x: x(i), funcs)))\n",
    "    val += list(map(lambda x: x(i), funcs))\n",
    "print(value)\n",
    "print(val)"
   ]
  },
  {
   "cell_type": "code",
   "execution_count": 31,
   "metadata": {},
   "outputs": [
    {
     "name": "stdout",
     "output_type": "stream",
     "text": [
      "[-5, -4, -3, -2, -1]\n"
     ]
    }
   ],
   "source": [
    "# filter\n",
    "# As the name suggests, filter creates a list of elements for which a function returns true. \n",
    "# Here is a short and concise example:\n",
    "number_list = range(-5, 5)\n",
    "less_than_zero = list(filter(lambda x: x < 0, number_list))\n",
    "print(less_than_zero)"
   ]
  },
  {
   "cell_type": "code",
   "execution_count": 33,
   "metadata": {},
   "outputs": [
    {
     "name": "stdout",
     "output_type": "stream",
     "text": [
      "The sum of the list elements is : 17\n"
     ]
    }
   ],
   "source": [
    "# reduce\n",
    "# Reduce is a really useful function for performing some computation on a list and returning the result. \n",
    "# It applies a rolling computation to sequential pairs of values in a list. \n",
    "# importing functools for reduce()\n",
    "from functools import reduce\n",
    "# initializing list\n",
    "lis = [ 1, 3, 5, 6, 2, ]\n",
    " \n",
    "# using reduce to compute sum of list\n",
    "print (\"The sum of the list elements is : \",end=\"\")\n",
    "print (reduce(lambda a,b : a+b,lis))\n",
    " \n",
    "# The sum of the list elements is : 17"
   ]
  },
  {
   "cell_type": "markdown",
   "metadata": {},
   "source": [
    "## collections -- High-performance container datatypes¶\n",
    "\n",
    "### namedtuple():factory function for creating tuple subclasses with named fields\n",
    "### deque : list-like container with fast appends and pops on either end\n",
    "### Counter : dict subclass for counting hashable objects\n",
    "### OrderedDict : dict subclass that remembers the order entries were added\n",
    "### defaultdict : dict subclass that calls a factory function to supply missing values"
   ]
  },
  {
   "cell_type": "code",
   "execution_count": 30,
   "metadata": {},
   "outputs": [
    {
     "data": {
      "text/plain": [
       "[('blue', 3), ('red', 2), ('green', 1), (2, 1), (4, 1), (5, 1)]"
      ]
     },
     "execution_count": 30,
     "metadata": {},
     "output_type": "execute_result"
    }
   ],
   "source": [
    "# counter: A counter tool is provided to support convenient and rapid tallies.\n",
    "from collections import Counter\n",
    "cnt = Counter()\n",
    "for word in ['red', 'blue', 'red', 'green', 'blue', 'blue',2,4,5]:\n",
    "    cnt[word] += 1\n",
    "cnt.most_common(10)"
   ]
  },
  {
   "cell_type": "code",
   "execution_count": 34,
   "metadata": {},
   "outputs": [
    {
     "data": {
      "text/plain": [
       "6"
      ]
     },
     "execution_count": 34,
     "metadata": {},
     "output_type": "execute_result"
    }
   ],
   "source": [
    "len(cnt.keys())"
   ]
  },
  {
   "cell_type": "markdown",
   "metadata": {},
   "source": [
    "Deques are a generalization of stacks and queues (the name is pronounced “deck” and is short for “double-ended queue”). Deques support thread-safe, memory efficient appends and pops from either side of the deque with approximately the same O(1) performance in either direction"
   ]
  },
  {
   "cell_type": "markdown",
   "metadata": {},
   "source": [
    "list 删除末尾的操作是O(1)的，但是删除头操作就是O(n)，这时候我们就需要一个双端队列 deque。首尾的常规操作为：\n",
    "\n",
    "append，添加到末尾\n",
    "appendleft, 添加到开头\n",
    "pop, 剔除末尾\n",
    "popleft，移除开头"
   ]
  },
  {
   "cell_type": "code",
   "execution_count": 29,
   "metadata": {
    "scrolled": false
   },
   "outputs": [
    {
     "name": "stdout",
     "output_type": "stream",
     "text": [
      "G\n",
      "H\n",
      "I\n",
      "deque(['f', 'g', 'h', 'i', 'j'])\n",
      "deque(['g', 'h', 'i', 'j', 'k', 'l'])\n",
      "deque(['l', 'g', 'h', 'i', 'j', 'k'])\n",
      "deque(['g', 'h', 'i', 'j', 'k', 'l'])\n"
     ]
    },
    {
     "data": {
      "text/plain": [
       "deque(['l', 'k', 'j', 'i', 'h', 'g'])"
      ]
     },
     "execution_count": 29,
     "metadata": {},
     "output_type": "execute_result"
    }
   ],
   "source": [
    "# deque\n",
    "from collections import deque\n",
    "d = deque('ghi')                 # make a new deque with three items\n",
    "for elem in d:                   # iterate over the deque's elements\n",
    "    print(elem.upper())\n",
    "\n",
    "d.append('j')                    # add a new entry to the right side\n",
    "d.appendleft('f')                # add a new entry to the left side\n",
    "print(d)                                # show the representation of the deque\n",
    "deque(['f', 'g', 'h', 'i', 'j'])\n",
    "d.pop()                          # return and remove the rightmost item\n",
    "d.popleft()                      # return and remove the leftmost item\n",
    "\n",
    "list(d)                          # list the contents of the deque\n",
    "#['g', 'h', 'i']\n",
    "d[0]                             # peek at leftmost item\n",
    "#'g'\n",
    "d[-1]                            # peek at rightmost item\n",
    "#'i'\n",
    "\n",
    "list(reversed(d))                # list the contents of a deque in reverse\n",
    "#['i', 'h', 'g']\n",
    "'h' in d                         # search the deque\n",
    "#True\n",
    "d.extend('jkl')                  # add multiple elements at once\n",
    "print(d)\n",
    "#deque(['g', 'h', 'i', 'j', 'k', 'l'])\n",
    "d.rotate(1)                      # right rotation\n",
    "print(d)\n",
    "#deque(['l', 'g', 'h', 'i', 'j', 'k'])\n",
    "d.rotate(-1)                     # left rotation\n",
    "print(d)\n",
    "#deque(['g', 'h', 'i', 'j', 'k', 'l'])\n",
    "\n",
    "deque(reversed(d))               # make a new deque in reverse order\n",
    "#deque(['l', 'k', 'j', 'i', 'h', 'g'"
   ]
  },
  {
   "cell_type": "code",
   "execution_count": 50,
   "metadata": {},
   "outputs": [],
   "source": [
    "#Bounded length deques provide functionality similar to the tail filter in Unix:\n",
    "def tail(filename, n=10):\n",
    "    'Return the last n lines of a file'\n",
    "    return deque(open(filename), n)"
   ]
  },
  {
   "cell_type": "code",
   "execution_count": 66,
   "metadata": {},
   "outputs": [],
   "source": [
    "#maintain a sequence of recently added elements by appending to the right and popping to the left:\n",
    "import itertools\n",
    "def moving_average(iterable, n=3):\n",
    "    # moving_average([40, 30, 50, 46, 39, 44]) --> 40.0 42.0 45.0 43.0\n",
    "    # http://en.wikipedia.org/wiki/Moving_average\n",
    "    it = iter(iterable)\n",
    "    #print(list(it))\n",
    "    d = deque(itertools.islice(it, n-1))\n",
    "    d.appendleft(0)\n",
    "    s = sum(d)\n",
    "    for elem in it:\n",
    "        print(elem)\n",
    "        s += elem - d.popleft()\n",
    "        d.append(elem)\n",
    "        yield s / float(n)"
   ]
  },
  {
   "cell_type": "code",
   "execution_count": 67,
   "metadata": {},
   "outputs": [
    {
     "name": "stdout",
     "output_type": "stream",
     "text": [
      "50\n",
      "46\n",
      "39\n",
      "44\n"
     ]
    },
    {
     "data": {
      "text/plain": [
       "[40.0, 42.0, 45.0, 43.0]"
      ]
     },
     "execution_count": 67,
     "metadata": {},
     "output_type": "execute_result"
    }
   ],
   "source": [
    "list(moving_average([40, 30, 50, 46, 39, 44], n=3))"
   ]
  },
  {
   "cell_type": "markdown",
   "metadata": {},
   "source": [
    "### defaultdict()"
   ]
  },
  {
   "cell_type": "code",
   "execution_count": 69,
   "metadata": {},
   "outputs": [],
   "source": [
    "from collections import defaultdict\n",
    "s = [('yellow', 1), ('blue', 2), ('yellow', 3), ('blue', 4), ('red', 1)]\n",
    "d = defaultdict(list)\n",
    "for k, v in s:\n",
    "    d[k].append(v)"
   ]
  },
  {
   "cell_type": "code",
   "execution_count": 75,
   "metadata": {},
   "outputs": [
    {
     "data": {
      "text/plain": [
       "dict_items([('yellow', [1, 3]), ('blue', [2, 4]), ('red', [1])])"
      ]
     },
     "execution_count": 75,
     "metadata": {},
     "output_type": "execute_result"
    }
   ],
   "source": [
    "d = {}\n",
    "for k, v in s:\n",
    "    d.setdefault(k, []).append(v)\n",
    "d.items()"
   ]
  },
  {
   "cell_type": "code",
   "execution_count": 76,
   "metadata": {},
   "outputs": [
    {
     "data": {
      "text/plain": [
       "dict_items([('m', 1), ('i', 4), ('s', 4), ('p', 2)])"
      ]
     },
     "execution_count": 76,
     "metadata": {},
     "output_type": "execute_result"
    }
   ],
   "source": [
    "s = 'mississippi'\n",
    "d = defaultdict(int)\n",
    "for k in s:\n",
    "    d[k] += 1\n",
    "d.items()"
   ]
  },
  {
   "cell_type": "code",
   "execution_count": 77,
   "metadata": {},
   "outputs": [
    {
     "data": {
      "text/plain": [
       "dict_items([('m', 1), ('i', 4), ('s', 4), ('p', 2)])"
      ]
     },
     "execution_count": 77,
     "metadata": {},
     "output_type": "execute_result"
    }
   ],
   "source": [
    "s = 'mississippi'\n",
    "d = Counter()\n",
    "for k in s:\n",
    "    d[k] += 1\n",
    "d.items()"
   ]
  },
  {
   "cell_type": "markdown",
   "metadata": {},
   "source": [
    "### OrderedDict"
   ]
  },
  {
   "cell_type": "code",
   "execution_count": 92,
   "metadata": {},
   "outputs": [
    {
     "data": {
      "text/plain": [
       "{'apple': 4, 'banana': 3, 'orange': 2, 'pear': 1}"
      ]
     },
     "execution_count": 92,
     "metadata": {},
     "output_type": "execute_result"
    }
   ],
   "source": [
    "# regular unsorted dictionary\n",
    "d = {'banana': 3, 'apple': 4, 'pear': 1, 'orange': 2}\n",
    "\n",
    "# dictionary sorted by key\n",
    "dict(sorted(d.items(), key=lambda t: t[0]))"
   ]
  },
  {
   "cell_type": "markdown",
   "metadata": {},
   "source": [
    "### heapq"
   ]
  },
  {
   "cell_type": "code",
   "execution_count": 1,
   "metadata": {},
   "outputs": [
    {
     "data": {
      "text/plain": [
       "[0, 1, 2, 3, 4, 5, 6, 7, 8, 9]"
      ]
     },
     "execution_count": 1,
     "metadata": {},
     "output_type": "execute_result"
    }
   ],
   "source": [
    "from heapq import heappush, heappop\n",
    "\n",
    "def heapsort(iterable):\n",
    "    h = []\n",
    "    for value in iterable:\n",
    "        heappush(h, value)\n",
    "    return [heappop(h) for i in range(len(h))]\n",
    "\n",
    "heapsort([1, 3, 5, 7, 9, 2, 4, 6, 8, 0])\n",
    "#[0, 1, 2, 3, 4, 5, 6, 7, 8, 9]"
   ]
  },
  {
   "cell_type": "markdown",
   "metadata": {},
   "source": [
    "## sort sorted"
   ]
  },
  {
   "cell_type": "code",
   "execution_count": 86,
   "metadata": {},
   "outputs": [
    {
     "name": "stdout",
     "output_type": "stream",
     "text": [
      "[(1, 2), (3, 3), (1, 1)]\n",
      "None\n"
     ]
    }
   ],
   "source": [
    "#sort is not goging to return a list\n",
    "list1 = [(1, 2), (3, 3), (1, 1)] \n",
    "list2 = list1.copy().sort(key = lambda x: x[1], reverse = True)  \n",
    "print(list1) \n",
    "print(list2) #!!!None"
   ]
  },
  {
   "cell_type": "code",
   "execution_count": 90,
   "metadata": {},
   "outputs": [
    {
     "name": "stdout",
     "output_type": "stream",
     "text": [
      "[(3, 3), (1, 2), (1, 1)]\n"
     ]
    }
   ],
   "source": [
    "list2 = sorted(list1, key=lambda x: x[1],reverse = True)\n",
    "print(list2)"
   ]
  },
  {
   "cell_type": "markdown",
   "metadata": {},
   "source": [
    "### bisect"
   ]
  },
  {
   "cell_type": "code",
   "execution_count": 3,
   "metadata": {},
   "outputs": [],
   "source": [
    "from bisect import bisect_left, bisect_right\n",
    "def index(a, x):\n",
    "    'Locate the leftmost value exactly equal to x'\n",
    "    i = bisect_left(a, x)\n",
    "    if i != len(a) and a[i] == x:\n",
    "        return i\n",
    "    raise ValueError\n",
    "\n",
    "def find_lt(a, x):\n",
    "    'Find rightmost value less than x'\n",
    "    i = bisect_left(a, x)\n",
    "    if i:\n",
    "        return a[i-1]\n",
    "    raise ValueError\n",
    "\n",
    "def find_le(a, x):\n",
    "    'Find rightmost value less than or equal to x'\n",
    "    i = bisect_right(a, x)\n",
    "    if i:\n",
    "        return a[i-1]\n",
    "    raise ValueError\n",
    "\n",
    "def find_gt(a, x):\n",
    "    'Find leftmost value greater than x'\n",
    "    i = bisect_right(a, x)\n",
    "    if i != len(a):\n",
    "        return a[i]\n",
    "    raise ValueError\n",
    "\n",
    "def find_ge(a, x):\n",
    "    'Find leftmost item greater than or equal to x'\n",
    "    i = bisect_left(a, x)\n",
    "    if i != len(a):\n",
    "        return a[i]\n",
    "    raise ValueError"
   ]
  },
  {
   "cell_type": "code",
   "execution_count": 5,
   "metadata": {},
   "outputs": [
    {
     "data": {
      "text/plain": [
       "['F', 'A', 'C', 'C', 'B', 'A', 'A']"
      ]
     },
     "execution_count": 5,
     "metadata": {},
     "output_type": "execute_result"
    }
   ],
   "source": [
    "def grade(score, breakpoints=[60, 70, 80, 90], grades='FDCBA'):\n",
    "    i = bisect_right(breakpoints, score)\n",
    "    return grades[i]\n",
    "\n",
    "[grade(score) for score in [33, 99, 77, 70, 89, 90, 100]]\n",
    "#['F', 'A', 'C', 'C', 'B', 'A', 'A']"
   ]
  },
  {
   "cell_type": "markdown",
   "metadata": {},
   "source": [
    "### strings"
   ]
  },
  {
   "cell_type": "code",
   "execution_count": 6,
   "metadata": {},
   "outputs": [
    {
     "data": {
      "text/plain": [
       "97"
      ]
     },
     "execution_count": 6,
     "metadata": {},
     "output_type": "execute_result"
    }
   ],
   "source": [
    "ord('a')"
   ]
  },
  {
   "cell_type": "code",
   "execution_count": 8,
   "metadata": {},
   "outputs": [
    {
     "data": {
      "text/plain": [
       "'d'"
      ]
     },
     "execution_count": 8,
     "metadata": {},
     "output_type": "execute_result"
    }
   ],
   "source": [
    "chr(100)"
   ]
  },
  {
   "cell_type": "code",
   "execution_count": 9,
   "metadata": {},
   "outputs": [
    {
     "data": {
      "text/plain": [
       "'example'"
      ]
     },
     "execution_count": 9,
     "metadata": {},
     "output_type": "execute_result"
    }
   ],
   "source": [
    "#strip\n",
    "#移除 string 前后的字符串，默认来移除空格，但是也可以给一个字符串，然后会移除含有这个字符串的部分：\n",
    "\n",
    "'   spacious   '.strip()\n",
    "\n",
    "'www.example.com'.strip('cmowz.')"
   ]
  },
  {
   "cell_type": "code",
   "execution_count": 12,
   "metadata": {
    "scrolled": true
   },
   "outputs": [
    {
     "name": "stdout",
     "output_type": "stream",
     "text": [
      "['1', '2', '3']\n",
      "['1', '2,3']\n"
     ]
    }
   ],
   "source": [
    "#split\n",
    "\n",
    "#按照某个字符串来切分，返回一个 list, 可以传入一个参数maxsplit来限定分离数。\n",
    "\n",
    "print('1,2,3'.split(','))\n",
    "\n",
    "print('1,2,3'.split(',', maxsplit=1))"
   ]
  },
  {
   "cell_type": "markdown",
   "metadata": {},
   "source": [
    "### conditions\n",
    "\n",
    "在 python 的三项表达式(ternary operation) 与其它语言不太一样：\n",
    "\n",
    "res = a if condition else b\n",
    "它表示如果 condition 满足，那么 res = a, 不然 res = b，在类 c 的语言里即为：\n",
    "\n",
    "res = condition ? a : b;"
   ]
  },
  {
   "cell_type": "code",
   "execution_count": 27,
   "metadata": {},
   "outputs": [
    {
     "ename": "NameError",
     "evalue": "name 'itertools' is not defined",
     "output_type": "error",
     "traceback": [
      "\u001b[0;31m---------------------------------------------------------------------------\u001b[0m",
      "\u001b[0;31mNameError\u001b[0m                                 Traceback (most recent call last)",
      "\u001b[0;32m<ipython-input-27-5ed011bee970>\u001b[0m in \u001b[0;36m<module>\u001b[0;34m\u001b[0m\n\u001b[1;32m      1\u001b[0m \u001b[0;31m#from itertools import permutations, combinations, groupby\u001b[0m\u001b[0;34m\u001b[0m\u001b[0;34m\u001b[0m\u001b[0;34m\u001b[0m\u001b[0m\n\u001b[0;32m----> 2\u001b[0;31m \u001b[0mprint\u001b[0m\u001b[0;34m(\u001b[0m\u001b[0mlist\u001b[0m\u001b[0;34m(\u001b[0m\u001b[0mitertools\u001b[0m\u001b[0;34m.\u001b[0m\u001b[0mcombinations\u001b[0m\u001b[0;34m(\u001b[0m\u001b[0;34m'ABCD'\u001b[0m\u001b[0;34m,\u001b[0m \u001b[0;36m2\u001b[0m\u001b[0;34m)\u001b[0m\u001b[0;34m)\u001b[0m\u001b[0;34m)\u001b[0m\u001b[0;34m\u001b[0m\u001b[0;34m\u001b[0m\u001b[0m\n\u001b[0m\u001b[1;32m      3\u001b[0m \u001b[0mprint\u001b[0m\u001b[0;34m(\u001b[0m\u001b[0mlist\u001b[0m\u001b[0;34m(\u001b[0m\u001b[0mitertools\u001b[0m\u001b[0;34m.\u001b[0m\u001b[0mpermutations\u001b[0m\u001b[0;34m(\u001b[0m\u001b[0;34m'ABCD'\u001b[0m\u001b[0;34m,\u001b[0m \u001b[0;36m2\u001b[0m\u001b[0;34m)\u001b[0m\u001b[0;34m)\u001b[0m\u001b[0;34m)\u001b[0m\u001b[0;34m\u001b[0m\u001b[0;34m\u001b[0m\u001b[0m\n\u001b[1;32m      4\u001b[0m \u001b[0;31m# AB AC AD BC BD CD\u001b[0m\u001b[0;34m\u001b[0m\u001b[0;34m\u001b[0m\u001b[0;34m\u001b[0m\u001b[0m\n",
      "\u001b[0;31mNameError\u001b[0m: name 'itertools' is not defined"
     ]
    }
   ],
   "source": [
    "from itertools import permutations, combinations, groupby\n",
    "print(list(combinations('ABCD', 2)))\n",
    "print(list(permutations('ABCD', 2)))\n",
    "# AB AC AD BC BD CD"
   ]
  },
  {
   "cell_type": "code",
   "execution_count": 20,
   "metadata": {},
   "outputs": [
    {
     "data": {
      "text/plain": [
       "['A', 'B', 'C', 'D', 'A', 'B']"
      ]
     },
     "execution_count": 20,
     "metadata": {},
     "output_type": "execute_result"
    }
   ],
   "source": [
    "[k for k, g in groupby('AAAABBBCCDAABBB')]"
   ]
  },
  {
   "cell_type": "code",
   "execution_count": 23,
   "metadata": {},
   "outputs": [
    {
     "data": {
      "text/plain": [
       "[['A', 'A', 'A', 'A'], ['B', 'B', 'B'], ['C', 'C'], ['D']]"
      ]
     },
     "execution_count": 23,
     "metadata": {},
     "output_type": "execute_result"
    }
   ],
   "source": [
    "[list(g) for k, g in groupby('AAAABBBCCD')]"
   ]
  }
 ],
 "metadata": {
  "kernelspec": {
   "display_name": "Python 3",
   "language": "python",
   "name": "python3"
  },
  "language_info": {
   "codemirror_mode": {
    "name": "ipython",
    "version": 3
   },
   "file_extension": ".py",
   "mimetype": "text/x-python",
   "name": "python",
   "nbconvert_exporter": "python",
   "pygments_lexer": "ipython3",
   "version": "3.7.4"
  }
 },
 "nbformat": 4,
 "nbformat_minor": 2
}
